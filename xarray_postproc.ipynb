{
 "cells": [
  {
   "cell_type": "markdown",
   "metadata": {},
   "source": [
    "**Postpocessing script for Diablo output**\n",
    "_Script to subset/sample mean_prof_stat.nc output file, clean up repeated coordinate values, calculate some common quanties and add useful attributes, to the end of making the data small enough and intuive enough to share :)_"
   ]
  },
  {
   "cell_type": "code",
   "execution_count": 20,
   "metadata": {
    "collapsed": true
   },
   "outputs": [],
   "source": [
    "%matplotlib inline\n",
    "import numpy as np\n",
    "import pandas as pd\n",
    "import xarray as xr\n",
    "import matplotlib.pyplot as plt"
   ]
  },
  {
   "cell_type": "code",
   "execution_count": 21,
   "metadata": {
    "collapsed": true
   },
   "outputs": [],
   "source": [
    "### read in from NetCDF\n",
    "datastr = \"/Users/madi/Desktop/Diablo/Diablo_runs/DC/DC_noshear/\"\n",
    "fname = '%smean_prof_stat.nc'% datastr\n",
    "    \n",
    "ds = xr.open_dataset(fname)"
   ]
  },
  {
   "cell_type": "code",
   "execution_count": 22,
   "metadata": {
    "collapsed": true
   },
   "outputs": [],
   "source": [
    "### remove duplicated y and t values\n",
    "_, index = np.unique(ds['y'], return_index=True)\n",
    "dtmp = ds.isel(y=index)\n",
    "\n",
    "_, index = np.unique(dtmp['t'], return_index=True)\n",
    "dtmp = dtmp.isel(t=index)"
   ]
  },
  {
   "cell_type": "code",
   "execution_count": 23,
   "metadata": {},
   "outputs": [
    {
     "name": "stdout",
     "output_type": "stream",
     "text": [
      "yep, sub-sampling in t\n"
     ]
    }
   ],
   "source": [
    "### Subsample (in time) if time array is unecessarily dense! More than \n",
    "#1 data point per 15 mins seems a reasonable cutoff for most uses\n",
    "nhours = (dtmp.t[-2]/3600)\n",
    "NT = len(ds.t)\n",
    "dT_minutes = 15\n",
    "NT_light = nhours.round()*(60/dT_minutes)\n",
    "if NT>NT_light:\n",
    "    print('yep, sub-sampling in t')\n",
    "    t_light = np.linspace(0,dtmp.t[-2],NT_light)\n",
    "    dtmp = dtmp.sel(t=t_light, method='nearest')\n"
   ]
  },
  {
   "cell_type": "code",
   "execution_count": 24,
   "metadata": {},
   "outputs": [
    {
     "name": "stdout",
     "output_type": "stream",
     "text": [
      "yep, sub-sampling in y\n"
     ]
    }
   ],
   "source": [
    "## domain unnecessarily deep for some early cases. Restrict to 10 m\n",
    "if dtmp.y[-2]>10:\n",
    "    dtmp = dtmp.sel(y=slice(None, 10.05))\n",
    "    print('yep, sub-sampling in y')"
   ]
  },
  {
   "cell_type": "code",
   "execution_count": 25,
   "metadata": {
    "collapsed": true
   },
   "outputs": [],
   "source": [
    "### Calc new quantities + assign to existing Dataset\n",
    "#TKE\n",
    "dtmp = dtmp.assign(TKE=lambda dtmp: dtmp.U_RMS **2 + dtmp.V_RMS**2 + dtmp.W_RMS**2)\n",
    "\n",
    "#N2\n",
    "alpha = 3.8e-5\n",
    "beta = 7.8e-4\n",
    "dTdy = dtmp.Temp.differentiate(\"y\")\n",
    "dSdy = dtmp.Sal.differentiate(\"y\")\n",
    "dtmp=dtmp.assign(N2=lambda dtmp: 9.81*(-alpha*dTdy + beta*dSdy))"
   ]
  },
  {
   "cell_type": "code",
   "execution_count": 26,
   "metadata": {
    "collapsed": true
   },
   "outputs": [],
   "source": [
    "### tidy/rename\n",
    "# Remove some infrequently used variables for a small, upload-able + useful dataset\n",
    "dtmp = dtmp.drop(['tke_mean', 'Temp_grad', 'Sal_grad', 'u_grad', 'w_grad', \n",
    "                  'uv', 'wv', 'uw', 'bprod', 'Sal_rms', 'Temp_rms', 'U_RMS', 'V_RMS', 'W_RMS'])\n",
    "# rename some of the variables to make them more easily recognisable\n",
    "dtmp = dtmp.rename({\"UME_TOT\": \"U\", \"WME_TOT\": \"W\",\n",
    "             \"sprod\": \"Shear_production\",\"diss\": \"Dissipation\" , \"thvt\": \"vpTp\", \"thvs\": \"vpSp\"})\n"
   ]
  },
  {
   "cell_type": "code",
   "execution_count": 27,
   "metadata": {},
   "outputs": [
    {
     "data": {
      "text/plain": [
       "<xarray.Dataset>\n",
       "Dimensions:           (t: 844, x: 64, y: 482, z: 64)\n",
       "Coordinates:\n",
       "  * x                 (x) float64 0.0 0.07812 0.1562 ... 4.766 4.844 4.922\n",
       "  * y                 (y) float64 0.0008804 0.002649 0.004432 ... 9.951 10.02\n",
       "  * z                 (z) float64 0.0 0.07812 0.1562 ... 4.766 4.844 4.922\n",
       "  * t                 (t) float64 0.0 799.7 1.8e+03 ... 7.575e+05 7.58e+05\n",
       "Data variables:\n",
       "    U                 (t, y) float64 ...\n",
       "    W                 (t, y) float64 ...\n",
       "    Temp              (t, y) float64 9.969e+36 9.969e+36 ... -2.091 -2.09\n",
       "    Sal               (t, y) float64 9.969e+36 9.969e+36 9.969e+36 ... 34.5 34.5\n",
       "    Shear_production  (t, y) float64 ...\n",
       "    Dissipation       (t, y) float64 ...\n",
       "    vpSp              (t, y) float64 ...\n",
       "    vpTp              (t, y) float64 ...\n",
       "    TKE               (t, y) float64 2.982e+74 2.982e+74 ... 2.772e-11 2.813e-11\n",
       "    N2                (t, y) float64 0.0 0.0 0.0 ... 2.706e-06 2.706e-06"
      ]
     },
     "execution_count": 27,
     "metadata": {},
     "output_type": "execute_result"
    }
   ],
   "source": [
    "dtmp"
   ]
  },
  {
   "cell_type": "code",
   "execution_count": 28,
   "metadata": {},
   "outputs": [
    {
     "data": {
      "text/plain": [
       "<matplotlib.collections.QuadMesh at 0x11cd85eb8>"
      ]
     },
     "execution_count": 28,
     "metadata": {},
     "output_type": "execute_result"
    },
    {
     "data": {
      "image/png": "[encoded data removed]",
      "text/plain": [
       "<Figure size 432x288 with 2 Axes>"
      ]
     },
     "metadata": {},
     "output_type": "display_data"
    }
   ],
   "source": [
    "### Have a look at N**2\n",
    "dtmp.N2[1:-1,1:-1].transpose().plot(vmin = -1e-5, vmax =1e-5)"
   ]
  },
  {
   "cell_type": "code",
   "execution_count": 29,
   "metadata": {
    "collapsed": true
   },
   "outputs": [],
   "source": [
    "### add units\n",
    "dtmp.U.attrs[\"units\"] = \"m/s\"\n",
    "dtmp.W.attrs[\"units\"] = \"m/s\"\n",
    "dtmp.Temp.attrs[\"units\"] = \"deg. C\"\n",
    "dtmp.Sal.attrs[\"units\"] = \"g/kg\"\n",
    "dtmp.Dissipation.attrs[\"units\"] = \"m^2 s**(-3)\"\n",
    "dtmp.Shear_production.attrs[\"units\"] = \"m^2 s**(-3)\"\n",
    "dtmp.vpTp.attrs[\"units\"] = \"m deg. C s**(-1)\"\n",
    "dtmp.vpSp.attrs[\"units\"] = \"m g (kg s)**(-1)\"\n",
    "dtmp.TKE.attrs[\"units\"] = \"m^2 s**(-2)\"\n",
    "dtmp.N2.attrs[\"units\"] = \"s**(-2)\""
   ]
  },
  {
   "cell_type": "code",
   "execution_count": 30,
   "metadata": {
    "collapsed": true
   },
   "outputs": [],
   "source": [
    "### add long names\n",
    "dtmp.U.attrs[\"long name\"] = \"x-component of velocity\"\n",
    "dtmp.W.attrs[\"long name\"] = \"z-component of velocity\"\n",
    "dtmp.Dissipation.attrs[\"long name\"] = \"turbulence dissipation (epsilon)\"\n",
    "dtmp.Shear_production.attrs[\"long name\"] = \"shear production of turbulence\"\n",
    "dtmp.vpTp.attrs[\"long name\"] = \"v'T'\"\n",
    "dtmp.vpSp.attrs[\"long name\"] = \"v'S'\"\n",
    "dtmp.TKE.attrs[\"long name\"] = \"Turbulent Kinetic Energy\"\n",
    "dtmp.N2.attrs[\"long name\"] = \"Squared Brunt-Vaisala/Buoyancy frequency\""
   ]
  },
  {
   "cell_type": "code",
   "execution_count": 31,
   "metadata": {},
   "outputs": [
    {
     "name": "stdout",
     "output_type": "stream",
     "text": [
      "saving to  /Users/madi/Desktop/Diablo/Diablo_runs/DC/DC_noshear/OUTPUT_light.nc\n",
      "finished saving\n"
     ]
    }
   ],
   "source": [
    "fname = '%sOUTPUT_light.nc'% datastr\n",
    "print ('saving to ', fname)\n",
    "\n",
    "dtmp.to_netcdf(path=fname)\n",
    "print ('finished saving')"
   ]
  },
  {
   "cell_type": "markdown",
   "metadata": {},
   "source": [
    "**Do the same for the subgridscale quantities**. _We care about even fewer of these_"
   ]
  },
  {
   "cell_type": "code",
   "execution_count": 32,
   "metadata": {
    "collapsed": true
   },
   "outputs": [],
   "source": [
    "### read in from NetCDF\n",
    "fname = '%smean_prof_les_stat.nc'% datastr\n",
    "    \n",
    "ds = xr.open_dataset(fname)"
   ]
  },
  {
   "cell_type": "code",
   "execution_count": 33,
   "metadata": {
    "collapsed": true
   },
   "outputs": [],
   "source": [
    "### remove duplicated y and t values\n",
    "_, index = np.unique(ds['y'], return_index=True)\n",
    "dtmp = ds.isel(y=index)\n",
    "\n",
    "_, index = np.unique(dtmp['t'], return_index=True)\n",
    "dtmp = dtmp.isel(t=index)"
   ]
  },
  {
   "cell_type": "code",
   "execution_count": 34,
   "metadata": {
    "collapsed": true
   },
   "outputs": [],
   "source": [
    "### tidy/rename\n",
    "# Remove some infrequently used variables for a small, upload-able + useful dataset\n",
    "dtmp = dtmp.drop(['TAU11', 'TAU22', 'TAU33', 'TAU12', 'TAU13', \n",
    "                  'TAU23', 'tke_sgs_t', 'C_DYN', 'C_DYN_dot', 'NU_T_test', 'NU_T_mean'])\n",
    "# rename some of the variables to make them more easily recognisable\n",
    "dtmp = dtmp.rename({\"tke_sgs_p\": \"shear_prod_sgs\", \"tke_sgs_diss\": \"dissipation_sgs\"})\n"
   ]
  },
  {
   "cell_type": "code",
   "execution_count": 35,
   "metadata": {},
   "outputs": [
    {
     "name": "stdout",
     "output_type": "stream",
     "text": [
      "yep, sub-sampling in t\n"
     ]
    }
   ],
   "source": [
    "### Subsample (in time) if time array is unecessarily dense! More than \n",
    "#1 data point per 15 mins seems a reasonable cutoff for most uses\n",
    "nhours = (dtmp.t[-2]/3600)\n",
    "NT = len(ds.t)\n",
    "dT_minutes = 15\n",
    "NT_light = nhours.round()*(60/dT_minutes)\n",
    "if NT>NT_light:\n",
    "    print('yep, sub-sampling in t')\n",
    "    t_light = np.linspace(0,dtmp.t[-2],NT_light)\n",
    "    dtmp = dtmp.sel(t=t_light, method='nearest')"
   ]
  },
  {
   "cell_type": "code",
   "execution_count": 36,
   "metadata": {},
   "outputs": [
    {
     "name": "stdout",
     "output_type": "stream",
     "text": [
      "yep, sub-sampling in y\n"
     ]
    }
   ],
   "source": [
    "## domain unnecessarily deep for some early cases. Restrict to 10 m\n",
    "if dtmp.y[-2]>10:\n",
    "    dtmp = dtmp.sel(y=slice(None, 10.05))\n",
    "    print('yep, sub-sampling in y')"
   ]
  },
  {
   "cell_type": "code",
   "execution_count": 37,
   "metadata": {
    "collapsed": true
   },
   "outputs": [],
   "source": [
    "### add units\n",
    "dtmp.shear_prod_sgs.attrs[\"units\"] = \"m^2 s**(-3)\"\n",
    "dtmp.dissipation_sgs.attrs[\"units\"] = \"m^2 s**(-3)\""
   ]
  },
  {
   "cell_type": "code",
   "execution_count": 38,
   "metadata": {},
   "outputs": [
    {
     "name": "stdout",
     "output_type": "stream",
     "text": [
      "saving to  /Users/madi/Desktop/Diablo/Diablo_runs/DC/DC_noshear/OUTPUT_SGS_light.nc\n",
      "finished saving\n"
     ]
    }
   ],
   "source": [
    "fname = '%sOUTPUT_SGS_light.nc'% datastr\n",
    "print ('saving to ', fname)\n",
    "\n",
    "dtmp.to_netcdf(path=fname)\n",
    "print ('finished saving')"
   ]
  },
  {
   "cell_type": "code",
   "execution_count": null,
   "metadata": {
    "collapsed": true
   },
   "outputs": [],
   "source": []
  }
 ],
 "metadata": {
  "kernelspec": {
   "display_name": "Python 3",
   "language": "python",
   "name": "python3"
  },
  "language_info": {
   "codemirror_mode": {
    "name": "ipython",
    "version": 3
   },
   "file_extension": ".py",
   "mimetype": "text/x-python",
   "name": "python",
   "nbconvert_exporter": "python",
   "pygments_lexer": "ipython3",
   "version": "3.6.9"
  }
 },
 "nbformat": 4,
 "nbformat_minor": 2
}
