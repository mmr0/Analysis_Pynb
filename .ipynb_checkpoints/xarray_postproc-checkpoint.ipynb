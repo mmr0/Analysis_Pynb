{
 "cells": [
  {
   "cell_type": "code",
   "execution_count": 2,
   "metadata": {
    "collapsed": true
   },
   "outputs": [],
   "source": [
    "%matplotlib inline\n",
    "import numpy as np\n",
    "import pandas as pd\n",
    "import xarray as xr\n",
    "import matplotlib.pyplot as plt"
   ]
  },
  {
   "cell_type": "code",
   "execution_count": 3,
   "metadata": {
    "collapsed": true
   },
   "outputs": [],
   "source": [
    "### read in from NetCDF\n",
    "datastr = \"/Users/madi/Desktop/Diablo/Diablo_runs/shear_scaling/u2.8_f_005_smaller_dom/\"\n",
    "fname = '%smean_prof_stat.nc'% datastr\n",
    "    \n",
    "ds = xr.open_dataset(fname)"
   ]
  },
  {
   "cell_type": "code",
   "execution_count": 19,
   "metadata": {
    "collapsed": true
   },
   "outputs": [],
   "source": [
    "### Compute new variables\n",
    "tke = (ds.U_RMS**2 + ds.V_RMS**2 + ds.W_RMS**2)\n"
   ]
  },
  {
   "cell_type": "code",
   "execution_count": 4,
   "metadata": {},
   "outputs": [
    {
     "data": {
      "text/plain": [
       "<xarray.Dataset>\n",
       "Dimensions:    (t: 1349, x: 256, y: 336, z: 256)\n",
       "Coordinates:\n",
       "  * x          (x) float64 0.0 0.02813 0.05625 0.08438 ... 7.116 7.144 7.172\n",
       "  * y          (y) float64 0.0006356 0.001918 0.003222 ... 8.806 8.883 8.961\n",
       "  * z          (z) float64 0.0 0.02813 0.05625 0.08438 ... 7.116 7.144 7.172\n",
       "  * t          (t) float64 1.903e+04 1.903e+04 1.904e+04 ... 6.554e+04 9.969e+36\n",
       "Data variables:\n",
       "    UME_TOT    (t, y) float64 ...\n",
       "    WME_TOT    (t, y) float64 ...\n",
       "    U_RMS      (t, y) float64 ...\n",
       "    V_RMS      (t, y) float64 ...\n",
       "    W_RMS      (t, y) float64 ...\n",
       "    Temp       (t, y) float64 9.969e+36 9.969e+36 9.969e+36 ... -2.275 -2.275\n",
       "    Sal        (t, y) float64 9.969e+36 9.969e+36 9.969e+36 ... 34.5 34.5 34.5\n",
       "    Temp_rms   (t, y) float64 ...\n",
       "    Sal_rms    (t, y) float64 ...\n",
       "    Temp_grad  (t, y) float64 ...\n",
       "    Sal_grad   (t, y) float64 ...\n",
       "    u_grad     (t, y) float64 ...\n",
       "    w_grad     (t, y) float64 ...\n",
       "    uv         (t, y) float64 ...\n",
       "    wv         (t, y) float64 ...\n",
       "    uw         (t, y) float64 ...\n",
       "    bprod      (t, y) float64 ...\n",
       "    sprod      (t, y) float64 ...\n",
       "    diss       (t, y) float64 ...\n",
       "    tke_mean   (t, y) float64 ...\n",
       "    thvs       (t, y) float64 ...\n",
       "    thvt       (t, y) float64 ...\n",
       "    N          (t, y) float64 -7.257e+34 -7.257e+34 ... -0.2649 -0.2649"
      ]
     },
     "execution_count": 4,
     "metadata": {},
     "output_type": "execute_result"
    }
   ],
   "source": [
    "### just add a new variable to existing Dataset\n",
    "ds.assign(TKE=lambda ds: ds.U_RMS **2 + ds.V_RMS**2 + ds.W_RMS**2)\n",
    "\n",
    "\n",
    "### pick up here - gradients\n",
    "alpha = 3.8e-5\n",
    "beta = 7.8e-4\n",
    "ds.assign(N=lambda ds: -9.81*(-alpha*ds.Temp + beta*ds.Sal))"
   ]
  },
  {
   "cell_type": "code",
   "execution_count": 9,
   "metadata": {},
   "outputs": [
    {
     "ename": "NameError",
     "evalue": "name 'N' is not defined",
     "output_type": "error",
     "traceback": [
      "\u001b[0;31m---------------------------------------------------------------------------\u001b[0m",
      "\u001b[0;31mNameError\u001b[0m                                 Traceback (most recent call last)",
      "\u001b[0;32m<ipython-input-9-d64c9fe0d4f6>\u001b[0m in \u001b[0;36m<module>\u001b[0;34m()\u001b[0m\n\u001b[0;32m----> 1\u001b[0;31m \u001b[0mds\u001b[0m\u001b[0;34m.\u001b[0m\u001b[0mvalues\u001b[0m\u001b[0;34m(\u001b[0m\u001b[0mN\u001b[0m\u001b[0;34m)\u001b[0m\u001b[0;34m\u001b[0m\u001b[0;34m\u001b[0m\u001b[0m\n\u001b[0m",
      "\u001b[0;31mNameError\u001b[0m: name 'N' is not defined"
     ]
    }
   ],
   "source": [
    "ds.values(N)\n"
   ]
  },
  {
   "cell_type": "code",
   "execution_count": null,
   "metadata": {
    "collapsed": true
   },
   "outputs": [],
   "source": []
  }
 ],
 "metadata": {
  "kernelspec": {
   "display_name": "Python 3",
   "language": "python",
   "name": "python3"
  },
  "language_info": {
   "codemirror_mode": {
    "name": "ipython",
    "version": 3
   },
   "file_extension": ".py",
   "mimetype": "text/x-python",
   "name": "python",
   "nbconvert_exporter": "python",
   "pygments_lexer": "ipython3",
   "version": "3.6.9"
  }
 },
 "nbformat": 4,
 "nbformat_minor": 2
}
